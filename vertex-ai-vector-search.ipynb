{
  "nbformat": 4,
  "nbformat_minor": 0,
  "metadata": {
    "colab": {
      "provenance": []
    },
    "kernelspec": {
      "name": "python3",
      "display_name": "Python 3"
    },
    "language_info": {
      "name": "python"
    }
  },
  "cells": [
    {
      "cell_type": "code",
      "execution_count": null,
      "metadata": {
        "id": "gdmHFd6Vvtzz"
      },
      "outputs": [],
      "source": [
        "!pip install --upgrade --user google-cloud-aiplatform google-cloud-storage 'google-cloud-bigquery[pandas]'"
      ]
    },
    {
      "cell_type": "code",
      "source": [
        "# Restart kernel after installs so that your environment can access the new packages\n",
        "import IPython\n",
        "import time\n",
        "\n",
        "app = IPython.Application.instance()\n",
        "app.kernel.do_shutdown(True)"
      ],
      "metadata": {
        "colab": {
          "base_uri": "https://localhost:8080/"
        },
        "id": "sczqGAH3wMt3",
        "outputId": "613f31a4-5d9d-43cd-83ca-bb83901ac00e"
      },
      "execution_count": 2,
      "outputs": [
        {
          "output_type": "execute_result",
          "data": {
            "text/plain": [
              "{'status': 'ok', 'restart': True}"
            ]
          },
          "metadata": {},
          "execution_count": 2
        }
      ]
    },
    {
      "cell_type": "code",
      "source": [
        "# get project ID\n",
        "PROJECT_ID = ! gcloud config get project\n",
        "PROJECT_ID = PROJECT_ID[0]\n",
        "LOCATION = \"us-central1\"\n",
        "if PROJECT_ID == \"(unset)\":\n",
        "    print(f\"Please set the project ID manually below\")\n"
      ],
      "metadata": {
        "colab": {
          "base_uri": "https://localhost:8080/"
        },
        "id": "J2_PtwYiwOMZ",
        "outputId": "90877df0-43b7-451f-ff16-f25cf5bb7de4"
      },
      "execution_count": 1,
      "outputs": [
        {
          "output_type": "stream",
          "name": "stdout",
          "text": [
            "Please set the project ID manually below\n"
          ]
        }
      ]
    },
    {
      "cell_type": "code",
      "source": [
        "# define project information\n",
        "if PROJECT_ID == \"(unset)\":\n",
        "    PROJECT_ID = \"\"  # @param {type:\"string\"}\n",
        "\n",
        "# generate an unique id for this session\n",
        "from datetime import datetime\n",
        "\n",
        "UID = datetime.now().strftime(\"%m%d%H%M\")"
      ],
      "metadata": {
        "id": "hA2fX_vkwdDG"
      },
      "execution_count": 31,
      "outputs": []
    },
    {
      "cell_type": "code",
      "source": [
        "import sys\n",
        "\n",
        "# if it's Colab runtime, authenticate the user with Google Cloud\n",
        "if \"google.colab\" in sys.modules:\n",
        "    from google.colab import auth\n",
        "\n",
        "    auth.authenticate_user()"
      ],
      "metadata": {
        "id": "5xTjjjvlwxCW"
      },
      "execution_count": 3,
      "outputs": []
    },
    {
      "cell_type": "code",
      "source": [
        "! gcloud services enable compute.googleapis.com aiplatform.googleapis.com storage.googleapis.com bigquery.googleapis.com --project {PROJECT_ID}"
      ],
      "metadata": {
        "id": "Pl1JSOjvwx4p"
      },
      "execution_count": null,
      "outputs": []
    },
    {
      "cell_type": "code",
      "source": [
        "# load the BQ Table into a Pandas Dataframe\n",
        "import pandas as pd\n",
        "from google.cloud import bigquery\n",
        "\n",
        "QUESTIONS_SIZE = 1000\n",
        "\n",
        "bq_client = bigquery.Client(project=PROJECT_ID)\n",
        "QUERY_TEMPLATE = \"\"\"\n",
        "        SELECT distinct q.id, q.title\n",
        "        FROM (SELECT * FROM `bigquery-public-data.stackoverflow.posts_questions`\n",
        "        where Score > 0 ORDER BY View_Count desc) AS q\n",
        "        LIMIT {limit} ;\n",
        "        \"\"\"\n",
        "query = QUERY_TEMPLATE.format(limit=QUESTIONS_SIZE)\n",
        "query_job = bq_client.query(query)\n",
        "rows = query_job.result()\n",
        "df = rows.to_dataframe()\n",
        "\n",
        "# examine the data\n",
        "df.head()"
      ],
      "metadata": {
        "colab": {
          "base_uri": "https://localhost:8080/",
          "height": 206
        },
        "id": "_Me9E2j-ytKp",
        "outputId": "2bf276d6-8ebd-49cf-d6f3-b650e11dc9ad"
      },
      "execution_count": 6,
      "outputs": [
        {
          "output_type": "execute_result",
          "data": {
            "text/plain": [
              "         id                                              title\n",
              "0  64360615                      Why is the hatch not showing?\n",
              "1  64363095  How to make div elements appear inline with a ...\n",
              "2  64240586  VBA Excel 365 64-bit Winsock implementation pr...\n",
              "3  64483009  How to upload/download file into Oracle Cloud ...\n",
              "4  64377894       Difference between explode and explode_outer"
            ],
            "text/html": [
              "\n",
              "  <div id=\"df-118b5f22-9336-4a64-a44e-cb66c64c608e\" class=\"colab-df-container\">\n",
              "    <div>\n",
              "<style scoped>\n",
              "    .dataframe tbody tr th:only-of-type {\n",
              "        vertical-align: middle;\n",
              "    }\n",
              "\n",
              "    .dataframe tbody tr th {\n",
              "        vertical-align: top;\n",
              "    }\n",
              "\n",
              "    .dataframe thead th {\n",
              "        text-align: right;\n",
              "    }\n",
              "</style>\n",
              "<table border=\"1\" class=\"dataframe\">\n",
              "  <thead>\n",
              "    <tr style=\"text-align: right;\">\n",
              "      <th></th>\n",
              "      <th>id</th>\n",
              "      <th>title</th>\n",
              "    </tr>\n",
              "  </thead>\n",
              "  <tbody>\n",
              "    <tr>\n",
              "      <th>0</th>\n",
              "      <td>64360615</td>\n",
              "      <td>Why is the hatch not showing?</td>\n",
              "    </tr>\n",
              "    <tr>\n",
              "      <th>1</th>\n",
              "      <td>64363095</td>\n",
              "      <td>How to make div elements appear inline with a ...</td>\n",
              "    </tr>\n",
              "    <tr>\n",
              "      <th>2</th>\n",
              "      <td>64240586</td>\n",
              "      <td>VBA Excel 365 64-bit Winsock implementation pr...</td>\n",
              "    </tr>\n",
              "    <tr>\n",
              "      <th>3</th>\n",
              "      <td>64483009</td>\n",
              "      <td>How to upload/download file into Oracle Cloud ...</td>\n",
              "    </tr>\n",
              "    <tr>\n",
              "      <th>4</th>\n",
              "      <td>64377894</td>\n",
              "      <td>Difference between explode and explode_outer</td>\n",
              "    </tr>\n",
              "  </tbody>\n",
              "</table>\n",
              "</div>\n",
              "    <div class=\"colab-df-buttons\">\n",
              "\n",
              "  <div class=\"colab-df-container\">\n",
              "    <button class=\"colab-df-convert\" onclick=\"convertToInteractive('df-118b5f22-9336-4a64-a44e-cb66c64c608e')\"\n",
              "            title=\"Convert this dataframe to an interactive table.\"\n",
              "            style=\"display:none;\">\n",
              "\n",
              "  <svg xmlns=\"http://www.w3.org/2000/svg\" height=\"24px\" viewBox=\"0 -960 960 960\">\n",
              "    <path d=\"M120-120v-720h720v720H120Zm60-500h600v-160H180v160Zm220 220h160v-160H400v160Zm0 220h160v-160H400v160ZM180-400h160v-160H180v160Zm440 0h160v-160H620v160ZM180-180h160v-160H180v160Zm440 0h160v-160H620v160Z\"/>\n",
              "  </svg>\n",
              "    </button>\n",
              "\n",
              "  <style>\n",
              "    .colab-df-container {\n",
              "      display:flex;\n",
              "      gap: 12px;\n",
              "    }\n",
              "\n",
              "    .colab-df-convert {\n",
              "      background-color: #E8F0FE;\n",
              "      border: none;\n",
              "      border-radius: 50%;\n",
              "      cursor: pointer;\n",
              "      display: none;\n",
              "      fill: #1967D2;\n",
              "      height: 32px;\n",
              "      padding: 0 0 0 0;\n",
              "      width: 32px;\n",
              "    }\n",
              "\n",
              "    .colab-df-convert:hover {\n",
              "      background-color: #E2EBFA;\n",
              "      box-shadow: 0px 1px 2px rgba(60, 64, 67, 0.3), 0px 1px 3px 1px rgba(60, 64, 67, 0.15);\n",
              "      fill: #174EA6;\n",
              "    }\n",
              "\n",
              "    .colab-df-buttons div {\n",
              "      margin-bottom: 4px;\n",
              "    }\n",
              "\n",
              "    [theme=dark] .colab-df-convert {\n",
              "      background-color: #3B4455;\n",
              "      fill: #D2E3FC;\n",
              "    }\n",
              "\n",
              "    [theme=dark] .colab-df-convert:hover {\n",
              "      background-color: #434B5C;\n",
              "      box-shadow: 0px 1px 3px 1px rgba(0, 0, 0, 0.15);\n",
              "      filter: drop-shadow(0px 1px 2px rgba(0, 0, 0, 0.3));\n",
              "      fill: #FFFFFF;\n",
              "    }\n",
              "  </style>\n",
              "\n",
              "    <script>\n",
              "      const buttonEl =\n",
              "        document.querySelector('#df-118b5f22-9336-4a64-a44e-cb66c64c608e button.colab-df-convert');\n",
              "      buttonEl.style.display =\n",
              "        google.colab.kernel.accessAllowed ? 'block' : 'none';\n",
              "\n",
              "      async function convertToInteractive(key) {\n",
              "        const element = document.querySelector('#df-118b5f22-9336-4a64-a44e-cb66c64c608e');\n",
              "        const dataTable =\n",
              "          await google.colab.kernel.invokeFunction('convertToInteractive',\n",
              "                                                    [key], {});\n",
              "        if (!dataTable) return;\n",
              "\n",
              "        const docLinkHtml = 'Like what you see? Visit the ' +\n",
              "          '<a target=\"_blank\" href=https://colab.research.google.com/notebooks/data_table.ipynb>data table notebook</a>'\n",
              "          + ' to learn more about interactive tables.';\n",
              "        element.innerHTML = '';\n",
              "        dataTable['output_type'] = 'display_data';\n",
              "        await google.colab.output.renderOutput(dataTable, element);\n",
              "        const docLink = document.createElement('div');\n",
              "        docLink.innerHTML = docLinkHtml;\n",
              "        element.appendChild(docLink);\n",
              "      }\n",
              "    </script>\n",
              "  </div>\n",
              "\n",
              "\n",
              "<div id=\"df-9efcfaba-7ea4-47ba-aa68-f1976d864b58\">\n",
              "  <button class=\"colab-df-quickchart\" onclick=\"quickchart('df-9efcfaba-7ea4-47ba-aa68-f1976d864b58')\"\n",
              "            title=\"Suggest charts\"\n",
              "            style=\"display:none;\">\n",
              "\n",
              "<svg xmlns=\"http://www.w3.org/2000/svg\" height=\"24px\"viewBox=\"0 0 24 24\"\n",
              "     width=\"24px\">\n",
              "    <g>\n",
              "        <path d=\"M19 3H5c-1.1 0-2 .9-2 2v14c0 1.1.9 2 2 2h14c1.1 0 2-.9 2-2V5c0-1.1-.9-2-2-2zM9 17H7v-7h2v7zm4 0h-2V7h2v10zm4 0h-2v-4h2v4z\"/>\n",
              "    </g>\n",
              "</svg>\n",
              "  </button>\n",
              "\n",
              "<style>\n",
              "  .colab-df-quickchart {\n",
              "      --bg-color: #E8F0FE;\n",
              "      --fill-color: #1967D2;\n",
              "      --hover-bg-color: #E2EBFA;\n",
              "      --hover-fill-color: #174EA6;\n",
              "      --disabled-fill-color: #AAA;\n",
              "      --disabled-bg-color: #DDD;\n",
              "  }\n",
              "\n",
              "  [theme=dark] .colab-df-quickchart {\n",
              "      --bg-color: #3B4455;\n",
              "      --fill-color: #D2E3FC;\n",
              "      --hover-bg-color: #434B5C;\n",
              "      --hover-fill-color: #FFFFFF;\n",
              "      --disabled-bg-color: #3B4455;\n",
              "      --disabled-fill-color: #666;\n",
              "  }\n",
              "\n",
              "  .colab-df-quickchart {\n",
              "    background-color: var(--bg-color);\n",
              "    border: none;\n",
              "    border-radius: 50%;\n",
              "    cursor: pointer;\n",
              "    display: none;\n",
              "    fill: var(--fill-color);\n",
              "    height: 32px;\n",
              "    padding: 0;\n",
              "    width: 32px;\n",
              "  }\n",
              "\n",
              "  .colab-df-quickchart:hover {\n",
              "    background-color: var(--hover-bg-color);\n",
              "    box-shadow: 0 1px 2px rgba(60, 64, 67, 0.3), 0 1px 3px 1px rgba(60, 64, 67, 0.15);\n",
              "    fill: var(--button-hover-fill-color);\n",
              "  }\n",
              "\n",
              "  .colab-df-quickchart-complete:disabled,\n",
              "  .colab-df-quickchart-complete:disabled:hover {\n",
              "    background-color: var(--disabled-bg-color);\n",
              "    fill: var(--disabled-fill-color);\n",
              "    box-shadow: none;\n",
              "  }\n",
              "\n",
              "  .colab-df-spinner {\n",
              "    border: 2px solid var(--fill-color);\n",
              "    border-color: transparent;\n",
              "    border-bottom-color: var(--fill-color);\n",
              "    animation:\n",
              "      spin 1s steps(1) infinite;\n",
              "  }\n",
              "\n",
              "  @keyframes spin {\n",
              "    0% {\n",
              "      border-color: transparent;\n",
              "      border-bottom-color: var(--fill-color);\n",
              "      border-left-color: var(--fill-color);\n",
              "    }\n",
              "    20% {\n",
              "      border-color: transparent;\n",
              "      border-left-color: var(--fill-color);\n",
              "      border-top-color: var(--fill-color);\n",
              "    }\n",
              "    30% {\n",
              "      border-color: transparent;\n",
              "      border-left-color: var(--fill-color);\n",
              "      border-top-color: var(--fill-color);\n",
              "      border-right-color: var(--fill-color);\n",
              "    }\n",
              "    40% {\n",
              "      border-color: transparent;\n",
              "      border-right-color: var(--fill-color);\n",
              "      border-top-color: var(--fill-color);\n",
              "    }\n",
              "    60% {\n",
              "      border-color: transparent;\n",
              "      border-right-color: var(--fill-color);\n",
              "    }\n",
              "    80% {\n",
              "      border-color: transparent;\n",
              "      border-right-color: var(--fill-color);\n",
              "      border-bottom-color: var(--fill-color);\n",
              "    }\n",
              "    90% {\n",
              "      border-color: transparent;\n",
              "      border-bottom-color: var(--fill-color);\n",
              "    }\n",
              "  }\n",
              "</style>\n",
              "\n",
              "  <script>\n",
              "    async function quickchart(key) {\n",
              "      const quickchartButtonEl =\n",
              "        document.querySelector('#' + key + ' button');\n",
              "      quickchartButtonEl.disabled = true;  // To prevent multiple clicks.\n",
              "      quickchartButtonEl.classList.add('colab-df-spinner');\n",
              "      try {\n",
              "        const charts = await google.colab.kernel.invokeFunction(\n",
              "            'suggestCharts', [key], {});\n",
              "      } catch (error) {\n",
              "        console.error('Error during call to suggestCharts:', error);\n",
              "      }\n",
              "      quickchartButtonEl.classList.remove('colab-df-spinner');\n",
              "      quickchartButtonEl.classList.add('colab-df-quickchart-complete');\n",
              "    }\n",
              "    (() => {\n",
              "      let quickchartButtonEl =\n",
              "        document.querySelector('#df-9efcfaba-7ea4-47ba-aa68-f1976d864b58 button');\n",
              "      quickchartButtonEl.style.display =\n",
              "        google.colab.kernel.accessAllowed ? 'block' : 'none';\n",
              "    })();\n",
              "  </script>\n",
              "</div>\n",
              "\n",
              "    </div>\n",
              "  </div>\n"
            ]
          },
          "metadata": {},
          "execution_count": 6
        }
      ]
    },
    {
      "cell_type": "code",
      "source": [
        "df"
      ],
      "metadata": {
        "colab": {
          "base_uri": "https://localhost:8080/",
          "height": 423
        },
        "id": "wuxLh2-NzNvZ",
        "outputId": "16c6c10f-ea0b-4135-aba0-61d5999fbecb"
      },
      "execution_count": 7,
      "outputs": [
        {
          "output_type": "execute_result",
          "data": {
            "text/plain": [
              "           id                                              title\n",
              "0    64360615                      Why is the hatch not showing?\n",
              "1    64363095  How to make div elements appear inline with a ...\n",
              "2    64240586  VBA Excel 365 64-bit Winsock implementation pr...\n",
              "3    64483009  How to upload/download file into Oracle Cloud ...\n",
              "4    64377894       Difference between explode and explode_outer\n",
              "..        ...                                                ...\n",
              "995  64262064  Bind GUI element property to boolean expressio...\n",
              "996  64349698  Is my client considered public/confidential if...\n",
              "997  64387610  How to configure Spring Security OAuth2 to ver...\n",
              "998  64532085  R maximum distance of a matrix after removing ...\n",
              "999  64209478         indexeddb get data from index n to index k\n",
              "\n",
              "[1000 rows x 2 columns]"
            ],
            "text/html": [
              "\n",
              "  <div id=\"df-91b57d9b-9166-4a1a-8cc3-e7bc35eac086\" class=\"colab-df-container\">\n",
              "    <div>\n",
              "<style scoped>\n",
              "    .dataframe tbody tr th:only-of-type {\n",
              "        vertical-align: middle;\n",
              "    }\n",
              "\n",
              "    .dataframe tbody tr th {\n",
              "        vertical-align: top;\n",
              "    }\n",
              "\n",
              "    .dataframe thead th {\n",
              "        text-align: right;\n",
              "    }\n",
              "</style>\n",
              "<table border=\"1\" class=\"dataframe\">\n",
              "  <thead>\n",
              "    <tr style=\"text-align: right;\">\n",
              "      <th></th>\n",
              "      <th>id</th>\n",
              "      <th>title</th>\n",
              "    </tr>\n",
              "  </thead>\n",
              "  <tbody>\n",
              "    <tr>\n",
              "      <th>0</th>\n",
              "      <td>64360615</td>\n",
              "      <td>Why is the hatch not showing?</td>\n",
              "    </tr>\n",
              "    <tr>\n",
              "      <th>1</th>\n",
              "      <td>64363095</td>\n",
              "      <td>How to make div elements appear inline with a ...</td>\n",
              "    </tr>\n",
              "    <tr>\n",
              "      <th>2</th>\n",
              "      <td>64240586</td>\n",
              "      <td>VBA Excel 365 64-bit Winsock implementation pr...</td>\n",
              "    </tr>\n",
              "    <tr>\n",
              "      <th>3</th>\n",
              "      <td>64483009</td>\n",
              "      <td>How to upload/download file into Oracle Cloud ...</td>\n",
              "    </tr>\n",
              "    <tr>\n",
              "      <th>4</th>\n",
              "      <td>64377894</td>\n",
              "      <td>Difference between explode and explode_outer</td>\n",
              "    </tr>\n",
              "    <tr>\n",
              "      <th>...</th>\n",
              "      <td>...</td>\n",
              "      <td>...</td>\n",
              "    </tr>\n",
              "    <tr>\n",
              "      <th>995</th>\n",
              "      <td>64262064</td>\n",
              "      <td>Bind GUI element property to boolean expressio...</td>\n",
              "    </tr>\n",
              "    <tr>\n",
              "      <th>996</th>\n",
              "      <td>64349698</td>\n",
              "      <td>Is my client considered public/confidential if...</td>\n",
              "    </tr>\n",
              "    <tr>\n",
              "      <th>997</th>\n",
              "      <td>64387610</td>\n",
              "      <td>How to configure Spring Security OAuth2 to ver...</td>\n",
              "    </tr>\n",
              "    <tr>\n",
              "      <th>998</th>\n",
              "      <td>64532085</td>\n",
              "      <td>R maximum distance of a matrix after removing ...</td>\n",
              "    </tr>\n",
              "    <tr>\n",
              "      <th>999</th>\n",
              "      <td>64209478</td>\n",
              "      <td>indexeddb get data from index n to index k</td>\n",
              "    </tr>\n",
              "  </tbody>\n",
              "</table>\n",
              "<p>1000 rows × 2 columns</p>\n",
              "</div>\n",
              "    <div class=\"colab-df-buttons\">\n",
              "\n",
              "  <div class=\"colab-df-container\">\n",
              "    <button class=\"colab-df-convert\" onclick=\"convertToInteractive('df-91b57d9b-9166-4a1a-8cc3-e7bc35eac086')\"\n",
              "            title=\"Convert this dataframe to an interactive table.\"\n",
              "            style=\"display:none;\">\n",
              "\n",
              "  <svg xmlns=\"http://www.w3.org/2000/svg\" height=\"24px\" viewBox=\"0 -960 960 960\">\n",
              "    <path d=\"M120-120v-720h720v720H120Zm60-500h600v-160H180v160Zm220 220h160v-160H400v160Zm0 220h160v-160H400v160ZM180-400h160v-160H180v160Zm440 0h160v-160H620v160ZM180-180h160v-160H180v160Zm440 0h160v-160H620v160Z\"/>\n",
              "  </svg>\n",
              "    </button>\n",
              "\n",
              "  <style>\n",
              "    .colab-df-container {\n",
              "      display:flex;\n",
              "      gap: 12px;\n",
              "    }\n",
              "\n",
              "    .colab-df-convert {\n",
              "      background-color: #E8F0FE;\n",
              "      border: none;\n",
              "      border-radius: 50%;\n",
              "      cursor: pointer;\n",
              "      display: none;\n",
              "      fill: #1967D2;\n",
              "      height: 32px;\n",
              "      padding: 0 0 0 0;\n",
              "      width: 32px;\n",
              "    }\n",
              "\n",
              "    .colab-df-convert:hover {\n",
              "      background-color: #E2EBFA;\n",
              "      box-shadow: 0px 1px 2px rgba(60, 64, 67, 0.3), 0px 1px 3px 1px rgba(60, 64, 67, 0.15);\n",
              "      fill: #174EA6;\n",
              "    }\n",
              "\n",
              "    .colab-df-buttons div {\n",
              "      margin-bottom: 4px;\n",
              "    }\n",
              "\n",
              "    [theme=dark] .colab-df-convert {\n",
              "      background-color: #3B4455;\n",
              "      fill: #D2E3FC;\n",
              "    }\n",
              "\n",
              "    [theme=dark] .colab-df-convert:hover {\n",
              "      background-color: #434B5C;\n",
              "      box-shadow: 0px 1px 3px 1px rgba(0, 0, 0, 0.15);\n",
              "      filter: drop-shadow(0px 1px 2px rgba(0, 0, 0, 0.3));\n",
              "      fill: #FFFFFF;\n",
              "    }\n",
              "  </style>\n",
              "\n",
              "    <script>\n",
              "      const buttonEl =\n",
              "        document.querySelector('#df-91b57d9b-9166-4a1a-8cc3-e7bc35eac086 button.colab-df-convert');\n",
              "      buttonEl.style.display =\n",
              "        google.colab.kernel.accessAllowed ? 'block' : 'none';\n",
              "\n",
              "      async function convertToInteractive(key) {\n",
              "        const element = document.querySelector('#df-91b57d9b-9166-4a1a-8cc3-e7bc35eac086');\n",
              "        const dataTable =\n",
              "          await google.colab.kernel.invokeFunction('convertToInteractive',\n",
              "                                                    [key], {});\n",
              "        if (!dataTable) return;\n",
              "\n",
              "        const docLinkHtml = 'Like what you see? Visit the ' +\n",
              "          '<a target=\"_blank\" href=https://colab.research.google.com/notebooks/data_table.ipynb>data table notebook</a>'\n",
              "          + ' to learn more about interactive tables.';\n",
              "        element.innerHTML = '';\n",
              "        dataTable['output_type'] = 'display_data';\n",
              "        await google.colab.output.renderOutput(dataTable, element);\n",
              "        const docLink = document.createElement('div');\n",
              "        docLink.innerHTML = docLinkHtml;\n",
              "        element.appendChild(docLink);\n",
              "      }\n",
              "    </script>\n",
              "  </div>\n",
              "\n",
              "\n",
              "<div id=\"df-d635e3b4-ca5d-477e-a781-85181e1c3b24\">\n",
              "  <button class=\"colab-df-quickchart\" onclick=\"quickchart('df-d635e3b4-ca5d-477e-a781-85181e1c3b24')\"\n",
              "            title=\"Suggest charts\"\n",
              "            style=\"display:none;\">\n",
              "\n",
              "<svg xmlns=\"http://www.w3.org/2000/svg\" height=\"24px\"viewBox=\"0 0 24 24\"\n",
              "     width=\"24px\">\n",
              "    <g>\n",
              "        <path d=\"M19 3H5c-1.1 0-2 .9-2 2v14c0 1.1.9 2 2 2h14c1.1 0 2-.9 2-2V5c0-1.1-.9-2-2-2zM9 17H7v-7h2v7zm4 0h-2V7h2v10zm4 0h-2v-4h2v4z\"/>\n",
              "    </g>\n",
              "</svg>\n",
              "  </button>\n",
              "\n",
              "<style>\n",
              "  .colab-df-quickchart {\n",
              "      --bg-color: #E8F0FE;\n",
              "      --fill-color: #1967D2;\n",
              "      --hover-bg-color: #E2EBFA;\n",
              "      --hover-fill-color: #174EA6;\n",
              "      --disabled-fill-color: #AAA;\n",
              "      --disabled-bg-color: #DDD;\n",
              "  }\n",
              "\n",
              "  [theme=dark] .colab-df-quickchart {\n",
              "      --bg-color: #3B4455;\n",
              "      --fill-color: #D2E3FC;\n",
              "      --hover-bg-color: #434B5C;\n",
              "      --hover-fill-color: #FFFFFF;\n",
              "      --disabled-bg-color: #3B4455;\n",
              "      --disabled-fill-color: #666;\n",
              "  }\n",
              "\n",
              "  .colab-df-quickchart {\n",
              "    background-color: var(--bg-color);\n",
              "    border: none;\n",
              "    border-radius: 50%;\n",
              "    cursor: pointer;\n",
              "    display: none;\n",
              "    fill: var(--fill-color);\n",
              "    height: 32px;\n",
              "    padding: 0;\n",
              "    width: 32px;\n",
              "  }\n",
              "\n",
              "  .colab-df-quickchart:hover {\n",
              "    background-color: var(--hover-bg-color);\n",
              "    box-shadow: 0 1px 2px rgba(60, 64, 67, 0.3), 0 1px 3px 1px rgba(60, 64, 67, 0.15);\n",
              "    fill: var(--button-hover-fill-color);\n",
              "  }\n",
              "\n",
              "  .colab-df-quickchart-complete:disabled,\n",
              "  .colab-df-quickchart-complete:disabled:hover {\n",
              "    background-color: var(--disabled-bg-color);\n",
              "    fill: var(--disabled-fill-color);\n",
              "    box-shadow: none;\n",
              "  }\n",
              "\n",
              "  .colab-df-spinner {\n",
              "    border: 2px solid var(--fill-color);\n",
              "    border-color: transparent;\n",
              "    border-bottom-color: var(--fill-color);\n",
              "    animation:\n",
              "      spin 1s steps(1) infinite;\n",
              "  }\n",
              "\n",
              "  @keyframes spin {\n",
              "    0% {\n",
              "      border-color: transparent;\n",
              "      border-bottom-color: var(--fill-color);\n",
              "      border-left-color: var(--fill-color);\n",
              "    }\n",
              "    20% {\n",
              "      border-color: transparent;\n",
              "      border-left-color: var(--fill-color);\n",
              "      border-top-color: var(--fill-color);\n",
              "    }\n",
              "    30% {\n",
              "      border-color: transparent;\n",
              "      border-left-color: var(--fill-color);\n",
              "      border-top-color: var(--fill-color);\n",
              "      border-right-color: var(--fill-color);\n",
              "    }\n",
              "    40% {\n",
              "      border-color: transparent;\n",
              "      border-right-color: var(--fill-color);\n",
              "      border-top-color: var(--fill-color);\n",
              "    }\n",
              "    60% {\n",
              "      border-color: transparent;\n",
              "      border-right-color: var(--fill-color);\n",
              "    }\n",
              "    80% {\n",
              "      border-color: transparent;\n",
              "      border-right-color: var(--fill-color);\n",
              "      border-bottom-color: var(--fill-color);\n",
              "    }\n",
              "    90% {\n",
              "      border-color: transparent;\n",
              "      border-bottom-color: var(--fill-color);\n",
              "    }\n",
              "  }\n",
              "</style>\n",
              "\n",
              "  <script>\n",
              "    async function quickchart(key) {\n",
              "      const quickchartButtonEl =\n",
              "        document.querySelector('#' + key + ' button');\n",
              "      quickchartButtonEl.disabled = true;  // To prevent multiple clicks.\n",
              "      quickchartButtonEl.classList.add('colab-df-spinner');\n",
              "      try {\n",
              "        const charts = await google.colab.kernel.invokeFunction(\n",
              "            'suggestCharts', [key], {});\n",
              "      } catch (error) {\n",
              "        console.error('Error during call to suggestCharts:', error);\n",
              "      }\n",
              "      quickchartButtonEl.classList.remove('colab-df-spinner');\n",
              "      quickchartButtonEl.classList.add('colab-df-quickchart-complete');\n",
              "    }\n",
              "    (() => {\n",
              "      let quickchartButtonEl =\n",
              "        document.querySelector('#df-d635e3b4-ca5d-477e-a781-85181e1c3b24 button');\n",
              "      quickchartButtonEl.style.display =\n",
              "        google.colab.kernel.accessAllowed ? 'block' : 'none';\n",
              "    })();\n",
              "  </script>\n",
              "</div>\n",
              "\n",
              "  <div id=\"id_52526865-1b24-4421-b024-dd964f48a40f\">\n",
              "    <style>\n",
              "      .colab-df-generate {\n",
              "        background-color: #E8F0FE;\n",
              "        border: none;\n",
              "        border-radius: 50%;\n",
              "        cursor: pointer;\n",
              "        display: none;\n",
              "        fill: #1967D2;\n",
              "        height: 32px;\n",
              "        padding: 0 0 0 0;\n",
              "        width: 32px;\n",
              "      }\n",
              "\n",
              "      .colab-df-generate:hover {\n",
              "        background-color: #E2EBFA;\n",
              "        box-shadow: 0px 1px 2px rgba(60, 64, 67, 0.3), 0px 1px 3px 1px rgba(60, 64, 67, 0.15);\n",
              "        fill: #174EA6;\n",
              "      }\n",
              "\n",
              "      [theme=dark] .colab-df-generate {\n",
              "        background-color: #3B4455;\n",
              "        fill: #D2E3FC;\n",
              "      }\n",
              "\n",
              "      [theme=dark] .colab-df-generate:hover {\n",
              "        background-color: #434B5C;\n",
              "        box-shadow: 0px 1px 3px 1px rgba(0, 0, 0, 0.15);\n",
              "        filter: drop-shadow(0px 1px 2px rgba(0, 0, 0, 0.3));\n",
              "        fill: #FFFFFF;\n",
              "      }\n",
              "    </style>\n",
              "    <button class=\"colab-df-generate\" onclick=\"generateWithVariable('df')\"\n",
              "            title=\"Generate code using this dataframe.\"\n",
              "            style=\"display:none;\">\n",
              "\n",
              "  <svg xmlns=\"http://www.w3.org/2000/svg\" height=\"24px\"viewBox=\"0 0 24 24\"\n",
              "       width=\"24px\">\n",
              "    <path d=\"M7,19H8.4L18.45,9,17,7.55,7,17.6ZM5,21V16.75L18.45,3.32a2,2,0,0,1,2.83,0l1.4,1.43a1.91,1.91,0,0,1,.58,1.4,1.91,1.91,0,0,1-.58,1.4L9.25,21ZM18.45,9,17,7.55Zm-12,3A5.31,5.31,0,0,0,4.9,8.1,5.31,5.31,0,0,0,1,6.5,5.31,5.31,0,0,0,4.9,4.9,5.31,5.31,0,0,0,6.5,1,5.31,5.31,0,0,0,8.1,4.9,5.31,5.31,0,0,0,12,6.5,5.46,5.46,0,0,0,6.5,12Z\"/>\n",
              "  </svg>\n",
              "    </button>\n",
              "    <script>\n",
              "      (() => {\n",
              "      const buttonEl =\n",
              "        document.querySelector('#id_52526865-1b24-4421-b024-dd964f48a40f button.colab-df-generate');\n",
              "      buttonEl.style.display =\n",
              "        google.colab.kernel.accessAllowed ? 'block' : 'none';\n",
              "\n",
              "      buttonEl.onclick = () => {\n",
              "        google.colab.notebook.generateWithVariable('df');\n",
              "      }\n",
              "      })();\n",
              "    </script>\n",
              "  </div>\n",
              "\n",
              "    </div>\n",
              "  </div>\n"
            ]
          },
          "metadata": {},
          "execution_count": 7
        }
      ]
    },
    {
      "cell_type": "code",
      "source": [
        "# init the vertexai package\n",
        "import vertexai\n",
        "\n",
        "vertexai.init(project=PROJECT_ID, location=LOCATION)\n"
      ],
      "metadata": {
        "id": "b7kmaiBWzOX5"
      },
      "execution_count": 8,
      "outputs": []
    },
    {
      "cell_type": "code",
      "source": [
        "# Load the text embeddings model\n",
        "from vertexai.preview.language_models import TextEmbeddingModel\n",
        "\n",
        "model = TextEmbeddingModel.from_pretrained(\"textembedding-gecko@001\")\n"
      ],
      "metadata": {
        "id": "JLy3an2yzoeH"
      },
      "execution_count": 10,
      "outputs": []
    },
    {
      "cell_type": "code",
      "source": [
        "import time\n",
        "import tqdm  # to show a progress bar\n",
        "\n",
        "# get embeddings for a list of texts\n",
        "BATCH_SIZE = 5\n",
        "\n",
        "\n",
        "def get_embeddings_wrapper(texts):\n",
        "    embs = []\n",
        "    for i in tqdm.tqdm(range(0, len(texts), BATCH_SIZE)):\n",
        "        time.sleep(1)  # to avoid the quota error\n",
        "        result = model.get_embeddings(texts[i : i + BATCH_SIZE])\n",
        "        embs = embs + [e.values for e in result]\n",
        "    return embs\n"
      ],
      "metadata": {
        "id": "p5pwJZhUzsWE"
      },
      "execution_count": 11,
      "outputs": []
    },
    {
      "cell_type": "code",
      "source": [
        "# get embeddings for the question titles and add them as \"embedding\" column\n",
        "df = df.assign(embedding=get_embeddings_wrapper(list(df.title)))\n",
        "df.head()\n"
      ],
      "metadata": {
        "id": "p3GHuf8906Ml"
      },
      "execution_count": null,
      "outputs": []
    },
    {
      "cell_type": "code",
      "source": [
        "len(df['embedding'][0])"
      ],
      "metadata": {
        "colab": {
          "base_uri": "https://localhost:8080/"
        },
        "id": "m0JTcpEa1N1p",
        "outputId": "3785a00e-9b30-4214-8203-c5e0381e5655"
      },
      "execution_count": 15,
      "outputs": [
        {
          "output_type": "execute_result",
          "data": {
            "text/plain": [
              "768"
            ]
          },
          "metadata": {},
          "execution_count": 15
        }
      ]
    },
    {
      "cell_type": "code",
      "source": [
        "import random\n",
        "import numpy as np\n",
        "\n",
        "# pick one of them as a key question\n",
        "key = random.randint(0, len(df))\n",
        "\n",
        "# calc dot product between the key and other questions\n",
        "embs = np.array(df.embedding.to_list())\n",
        "similarities = np.dot(embs[key], embs.T)\n",
        "\n",
        "# print similarities for the first 5 questions\n",
        "similarities[:5]\n"
      ],
      "metadata": {
        "colab": {
          "base_uri": "https://localhost:8080/"
        },
        "id": "7xRbrokk2PRP",
        "outputId": "8d2beef8-ea30-477d-88ed-fd45fd77ec2c"
      },
      "execution_count": 16,
      "outputs": [
        {
          "output_type": "execute_result",
          "data": {
            "text/plain": [
              "array([0.50433718, 0.56227078, 0.47846575, 0.47568009, 0.45684142])"
            ]
          },
          "metadata": {},
          "execution_count": 16
        }
      ]
    },
    {
      "cell_type": "code",
      "source": [
        "# print the question\n",
        "print(f\"Key question: {df.title[key]}\\n\")\n",
        "\n",
        "# sort and print the questions by similarities\n",
        "sorted_questions = sorted(\n",
        "    zip(df.title, similarities), key=lambda x: x[1], reverse=True\n",
        ")[:20]\n",
        "for i, (question, similarity) in enumerate(sorted_questions):\n",
        "    print(f\"{similarity:.4f} {question}\")\n"
      ],
      "metadata": {
        "colab": {
          "base_uri": "https://localhost:8080/"
        },
        "id": "jvN1YaM9-udP",
        "outputId": "b0ae87cc-f822-4f23-8001-6c5502e94163"
      },
      "execution_count": 17,
      "outputs": [
        {
          "output_type": "stream",
          "name": "stdout",
          "text": [
            "Key question: How to show a Time Series chart by Date + Hour in Data Studio - only showing up as 12AM\n",
            "\n",
            "1.0000 How to show a Time Series chart by Date + Hour in Data Studio - only showing up as 12AM\n",
            "0.6996 Time data does not match format '%yyyy-%mm-%dd\n",
            "0.6975 How to turn datetime to format('%H:%M') but still keep datetime type?\n",
            "0.6566 DataFrame New Column to split sessions by time difference - pandas\n",
            "0.6384 Power BI Map Dynamic Buckets\n",
            "0.6218 how to write regex expression to find date and time\n",
            "0.6216 How to create dynamic data sets on ng-charts\n",
            "0.6215 What is wrong with this code to generate new date rows in my Pandas dataframe based on start and end dates?\n",
            "0.6215 Disable the label text (min, max, average, bins values) in measure annotation while doing MeasureX in highstocks and highcharts\n",
            "0.6190 in Python Pandas above 1.1.0 InvalidIndexError when slicing MultIndex frame with DatetimeIndex\n",
            "0.6181 How to show only column with Values in Pandas Groupby\n",
            "0.6137 Showing arbitrary @Timed metrics in prometheus\n",
            "0.6127 Javascript: new Date() initialized with specific date string returns two different dates in different timezones\n",
            "0.6123 Using two JSON objects to make Chart.JS Bar Chart Dynamic in Typescript / Angular\n",
            "0.6112 Ant design 3 Year picker selected value not display\n",
            "0.6066 Data Factory copy csv to SQL cannot convert empty data\n",
            "0.6045 Firebase Analytics - logging screen_view not working in SwiftUI\n",
            "0.6030 Is there a way to calculate the average queue time of an entire column that contains data in time format\n",
            "0.6023 How to pass JSON array of objects values to stacked chart using chart.js in Angular?\n",
            "0.6017 how to create multiple conditions on same column in SQL\n"
          ]
        }
      ]
    },
    {
      "cell_type": "code",
      "source": [
        "# save id and embedding as a json file\n",
        "jsonl_string = df[[\"id\", \"embedding\"]].to_json(orient=\"records\", lines=True)\n",
        "with open(\"questions.json\", \"w\") as f:\n",
        "    f.write(jsonl_string)\n",
        "\n",
        "# show the first few lines of the json file\n",
        "! head -n 3 questions.json\n"
      ],
      "metadata": {
        "colab": {
          "base_uri": "https://localhost:8080/"
        },
        "id": "ygCyqjif-5s9",
        "outputId": "24df8c24-d132-4b58-f7d0-4fcf7fd339b3"
      },
      "execution_count": 18,
      "outputs": [
        {
          "output_type": "stream",
          "name": "stdout",
          "text": [
            "{\"id\":64360615,\"embedding\":[0.0096144881,0.0196080822,0.0315130427,-0.018537879,0.0473369174,0.0251252614,0.0055566989,0.0120723713,0.0206799638,0.0293143075,0.0187999979,0.0227961503,0.0277153514,0.0356685854,-0.0067165233,-0.0430152752,-0.0765612125,0.0130272582,-0.0173531286,0.0272374731,-0.0593699478,-0.0215581749,-0.0154614747,-0.0267537031,-0.0103264945,-0.0544658303,0.001135871,-0.0425284281,-0.0099049332,0.0000936401,0.0284323711,0.003146196,-0.0378895029,-0.0057702251,-0.0422542915,0.0789663941,-0.0096604433,0.0008278319,0.0451143011,-0.0067756623,-0.0320472457,-0.0048065665,0.0031847805,0.0170230176,0.0128254481,0.0196729377,-0.0318697356,-0.008650898,-0.0238228869,0.0288226474,-0.0387511142,-0.0138769774,-0.0046359692,0.0398554839,0.0477813892,0.0459595509,-0.0056817182,-0.0135848373,-0.0223781131,-0.0376843698,0.0448303595,-0.0194943491,0.0300437715,0.0091752345,-0.0028871559,0.0628972501,0.0029386678,-0.031865526,0.016144678,-0.0204657614,0.0229924954,0.0066935876,0.004110889,0.0023861926,0.0053938334,-0.007843513,-0.0544687733,0.0384662226,0.0974310264,-0.0861229897,-0.0071309321,-0.0328109004,0.0028749448,-0.0983436331,0.0090133091,0.0201992653,-0.0131976223,-0.0157334749,-0.0169894993,0.0134230908,-0.0515301824,0.0022408527,0.0491906181,0.0621754192,-0.0439685285,-0.032695815,-0.0437006466,-0.0085365986,-0.0016435983,0.0131994812,0.0195617005,-0.0571844652,0.0153811537,-0.0070240889,0.0598004758,0.0196249597,-0.0328563601,-0.0075954399,-0.0723876953,-0.0764436945,-0.0685601756,0.0218688957,-0.010362017,0.0377511829,0.0362664871,-0.0112262666,0.0043164124,-0.0011631607,0.0396316275,0.0429957062,-0.0254147146,0.007289004,0.0213475469,-0.0305726677,0.0038639908,-0.0299646184,0.0797895715,0.0042176191,-0.0356100127,-0.0185496192,0.0505014285,0.0187704451,0.0888090059,-0.0336979032,0.0006504314,0.0508570075,-0.0400448069,0.0313698463,0.0011373436,0.0508013219,-0.0323529206,0.0244186949,0.0146052949,-0.0091401655,-0.0026560524,-0.0367933661,0.0323189981,-0.0344869345,-0.0401498824,0.011457216,0.0047894777,-0.0961160362,0.0232404191,0.0136332801,0.0003720662,0.0577000529,0.0169699155,0.0518913716,0.0033941122,-0.0716720596,0.0040253135,-0.0321865901,0.0084305853,-0.0053298147,0.0306855682,0.0557631254,-0.0376632847,0.0642918795,-0.0341922976,-0.0104893567,0.013838917,-0.1149621904,0.0064189173,-0.0696392432,0.0727873594,0.03045341,0.0077769053,0.0290998071,-0.0396000929,-0.0168071613,0.0039695753,-0.0805890784,-0.0293562654,0.0005692306,-0.1281010509,0.0036295922,0.0034593653,0.016414877,0.0223229676,0.0616433583,-0.0683828667,-0.02541277,0.0217837077,-0.0719742477,-0.0181831047,0.0165132545,0.0458697528,-0.1460673362,0.001752526,0.0569556542,-0.046689678,-0.054755386,-0.0302550849,-0.0370200723,-0.0391318202,-0.0159484465,-0.0450901426,-0.0045026257,0.0194492117,0.0244133454,0.0293810107,0.0301307663,0.0594099537,0.0018269048,-0.0374029577,-0.0302772541,-0.0033534791,-0.0232946575,-0.0520103872,-0.0017285964,-0.0279066637,-0.0044447728,-0.0013681159,0.0364950672,0.0159792062,0.0252468847,0.0479389429,-0.0016938471,0.0264066439,0.0126914922,-0.0646369383,-0.0243135095,-0.0578366518,-0.0148514155,-0.0183064695,0.0442229807,0.0286291204,0.0452408493,-0.0723977908,-0.0158031508,-0.0103826066,0.0795520246,-0.0563279353,0.0237573106,-0.0744710341,0.0397303104,0.0267374534,0.0052617132,0.0908503011,-0.0532801151,0.0093558133,-0.0233642533,0.0019265655,0.0256543308,0.0164291319,-0.0034505273,-0.0586887747,0.094043836,-0.058617536,0.0149269328,0.0261590425,-0.0198371839,0.0478101037,0.1029866189,-0.019285785,-0.0157585498,-0.0317733251,0.0132423779,0.0435411446,-0.0196962822,-0.0126880948,-0.0711135641,-0.0183170456,0.0437417738,0.0004149758,0.0248701908,-0.0090195043,0.0523140468,-0.0018764562,0.0705547631,-0.0318721421,-0.0084531726,-0.0124657815,0.0580059811,-0.0186062809,0.0396132544,0.0031757294,0.003802957,-0.0403966233,-0.0061827549,0.0442166887,0.0210583545,-0.0106304334,0.0573111661,-0.0257750787,-0.01376459,0.0273656454,-0.0052863322,-0.0097003235,0.0021527007,0.0181874447,-0.0594612509,-0.0446645208,-0.0085105281,-0.0704771504,0.0097733131,0.0300648417,0.0100456979,0.0437866636,0.0031179527,0.0334315263,-0.0178815518,0.0534979776,0.0152428551,-0.0100571075,0.0344124511,-0.0030476239,0.0122348163,-0.0228572264,0.0149893174,-0.0054016053,-0.0127700511,0.1072250828,0.0020071031,0.0008980475,-0.0029223142,-0.0003282854,-0.0061787823,0.0377695151,-0.0565857626,-0.0224923715,0.0556409061,-0.0029335048,0.0111211305,0.0637472421,0.0267198253,-0.0051282048,0.0372621603,0.0072963163,-0.0490668528,0.0065238257,-0.0254232716,-0.0212397557,-0.045231998,-0.0340440646,0.013175102,-0.0081234649,-0.0165612902,0.0108365808,-0.0061760116,-0.0171110909,0.0523774512,-0.0289397445,0.0075126588,0.032880526,0.0300321821,0.0511480793,0.0516431741,0.0526702926,0.0067824293,0.0059364452,-0.0366874747,-0.0422976576,-0.0290398765,0.0426109508,0.037972644,-0.0322072729,0.0221884549,0.0037182334,-0.0391074866,-0.0257673301,0.060603261,0.0422682725,-0.040052399,-0.0827526897,-0.030938115,-0.0296309739,0.0054192292,-0.0565468334,-0.0063013141,0.0102436272,0.0510998145,-0.0109498603,0.0076601701,0.0186729543,0.0264453404,-0.0035227751,0.0045921556,0.0291294474,-0.0276957098,0.0187402032,0.000224304,0.0169228334,-0.0664696768,0.0277982838,0.0505211093,-0.0529812686,-0.004202879,-0.0021396168,-0.0482469797,0.0214022212,0.0075201499,-0.0466965623,-0.0619531386,0.0205384567,0.0108953109,0.0043640104,0.0110473465,0.0511813127,-0.0657035038,0.0122627309,-0.0500741862,-0.0101497564,0.0048043514,0.0461331941,-0.0623967908,0.0325738117,-0.0372830592,0.0042546759,0.0069815638,0.0227269921,-0.0116030267,-0.0712573975,0.036759194,0.0023773457,0.0241769049,0.0060006147,0.0408396982,-0.0167894196,-0.0391809009,-0.026673438,-0.0212838575,-0.0187955648,-0.0296905395,0.0127125923,-0.0879185572,0.0995798633,0.0194497071,0.0411810614,-0.0549259633,0.0127708036,0.0247240048,-0.035172224,0.0597332641,0.0468270145,-0.0534947328,0.0161498655,-0.0616206042,-0.050494682,0.0116669284,-0.0184443239,-0.0029915292,-0.0037394899,0.0773517117,-0.0555310175,-0.0073985974,-0.0254102554,-0.0256208535,0.005459589,0.0512576699,-0.0289754197,-0.0097921882,-0.0386742279,0.0514019541,-0.002653203,-0.0058017005,0.0095830811,0.083788164,0.000356605,0.0186495613,0.0015621446,0.0591053665,0.0208951663,-0.0584129021,0.0315159746,0.0001280088,0.07122688,0.0307694208,-0.028169509,-0.0676966831,-0.0020912779,-0.0111921141,-0.0394967832,0.013232273,-0.0094962167,0.0127372956,0.0203452203,-0.0217635166,0.0121182809,0.0387935154,0.0286268573,-0.0053712875,0.0029298239,-0.0310317874,-0.0009169376,-0.0577884503,0.0209127292,-0.0188864544,0.0589480326,0.0242930632,0.0034543714,0.0006967717,0.0416131839,-0.0451286845,-0.0345867015,0.0261135753,0.011675749,-0.0633008257,-0.0413409621,-0.0157748125,0.0144863511,0.0036927008,-0.0048471806,-0.0091070458,-0.0333474688,-0.0516408905,-0.025884334,0.0396005027,-0.0051755896,-0.0323670618,-0.0101723876,0.0338390954,0.0054500527,0.0111353798,0.0116766896,0.0304360911,0.0358491316,-0.0791632459,0.0079245595,0.0447519496,0.0136355162,-0.0209357273,0.0091554271,-0.0213273689,0.007714835,-0.0234311018,0.0155827217,0.0198255796,-0.0294699874,0.1131573319,0.0033763386,-0.0521168113,0.0079236897,-0.0179388989,-0.0244360976,0.0072994498,0.0216345899,0.0108988443,0.0029489314,0.0418818183,-0.0023748735,-0.0051038214,-0.0408825465,0.0002544298,0.029575048,-0.0312987007,0.0063082813,-0.0166449118,-0.0274230465,-0.0376821272,-0.0241430681,0.0131601039,0.017978888,-0.0268140044,0.0421230979,-0.0022718287,0.0293690152,-0.0209779385,-0.0032586672,0.0469571762,-0.0132709211,-0.0414072759,-0.0328219943,0.0277122315,0.0126700019,0.0301149115,-0.0540785305,0.0565040149,-0.0095630204,0.0213384125,-0.0412513614,0.0335625187,0.0130172363,0.0352671221,-0.0194621328,-0.0074998992,-0.0071350597,-0.0261835419,-0.0152451545,-0.0606350861,0.0465035923,-0.0648290068,0.060832642,-0.0002938513,-0.0307391416,-0.0399016775,-0.0158186406,-0.0241842661,-0.0049823024,0.0106368233,0.0164004639,-0.0277857166,0.0145445699,-0.0503459461,0.0010998241,-0.0037210947,-0.0028157698,-0.0052397596,0.024492776,0.0009199471,0.043925032,0.0106992144,0.0165193584,0.0616578013,-0.0123827672,-0.0287934132,0.001626742,-0.0069547193,-0.0017885356,0.0120243141,0.041122362,0.0185892899,0.0468456484,-0.0542266667,0.024543317,-0.0269179158,-0.0184128769,0.0187407732,-0.031641487,0.0091600195,0.0120285004,-0.0190296248,-0.0341816768,-0.0458635464,0.0040443619,0.0035471397,-0.0040820795,0.0005722495,0.0120975347,0.0046336176,-0.0252569336,-0.0022471468,0.004446995,0.0030026878,0.0160235949,-0.0371386558,-0.0665289909,-0.0613040328,0.0336562581,-0.0367890671,0.0564726666,-0.0413106233,-0.0056684916,-0.0836150274,0.0206015911,0.0143826725,0.0025746522,0.0273425393,-0.0195931066,0.0208665784,0.040078111,0.006339056,0.0091559971,0.0459956229,-0.0631396249,0.008087148,0.0312173944,0.0541485734,0.0304141119,0.0098806331,-0.0390365906,-0.020394139,0.0445736609,0.0081336815,0.0279751979,0.043503698,0.0136406468,0.0523009636,0.0418963991,0.0219119657,-0.0296681169,0.0507725216,-0.0171305109,0.0343634374,0.0260755047,-0.0373581313,-0.0208314788,0.0154880928,0.0037806488,-0.0471760444,0.0552349575,-0.021661954,-0.0133931814,0.0049417703,-0.0010820389,-0.0370207541,-0.0244003385,0.0355549082,0.0170673802,-0.0148826409,0.0263755694,0.0171801168,0.0304359682,0.0111234421,0.0973897725,-0.0220578108,-0.0505375974,0.0335267298,-0.0262474399,-0.0484751761,-0.0255792886,0.0103827622,0.0249296781,0.0189002138,0.0114645166,0.0067411247,-0.0095487861,-0.000649278,0.0079133036,0.0116735371,-0.0056856503,0.0530461259,-0.0127217565,-0.0593966842,0.0032388251,-0.0194965694,0.0183159858,-0.0514915362,-0.0196676757,0.0507703312,0.0027910152,0.00681662,0.0495467708,0.0118160602,0.0090278536,-0.0328910165,0.0738828555,-0.0097008673,0.0596565939,-0.0270590372,0.0143247396,0.0402111374,-0.0454407632,-0.0252706129,0.0096117482,0.0408946127,0.0065269032,0.0024169993,-0.027984295,-0.0594021678,-0.0434193276,0.0039011994,-0.0090326359,0.0566061176,-0.0666678324,0.0816080645,0.0217769053,0.0490848199,-0.0480472408,0.0694695041,-0.0239705313,0.0407762788,-0.038469594,-0.0271199774,-0.0033944831,0.0169773083,-0.0574792698,-0.0155749712]}\n",
            "{\"id\":64363095,\"embedding\":[-0.0348102078,-0.013860587,0.0075276396,0.001452319,0.0111783314,-0.0639719144,0.0226117447,0.024272589,0.0086280508,0.0112722265,0.0523618236,-0.0197463594,0.0305962451,0.0106232241,0.0037905008,0.0202018507,0.0013697137,-0.0326832049,-0.0131188044,0.0250896197,-0.0428392701,-0.0185717586,0.0212975647,-0.0346594527,-0.0548599586,-0.0833514035,0.050433144,-0.0036566041,-0.0425222293,0.0018831048,-0.0443179794,-0.019568868,-0.0393276401,-0.0285028722,0.0583090931,-0.024611162,0.0166950189,0.0480642393,-0.0070898719,0.0122871306,-0.0040771933,0.0007592634,-0.0162800513,-0.0218556728,-0.021162726,0.0009981564,-0.0473095365,-0.0459666811,-0.0351560749,-0.0459149815,-0.0227346607,-0.0416070186,-0.0070638219,0.0051034763,-0.0192451179,0.0432305671,-0.0672109574,0.0199334901,-0.0224795863,-0.0448219068,0.0548518561,-0.0146992113,-0.0423415042,0.0084918067,-0.0191932749,0.0276287962,-0.0086385598,0.0148317404,-0.0362989865,-0.0420369208,0.0383898504,0.0115192803,-0.0134493886,-0.0247776676,0.0417382084,0.0008420461,0.0098776259,0.0120541938,0.0310680512,-0.0154385772,-0.0064641191,-0.0009917548,-0.0353612565,-0.0890656859,-0.0420988984,0.0426007807,-0.0177488215,-0.0126021858,-0.0381133407,0.0219493844,-0.0118274568,0.0056054285,-0.0024413927,0.0783594474,0.0017273347,-0.0152617218,-0.0323025063,0.005303523,0.044015415,-0.0004568392,-0.0511185192,-0.0622902997,0.0325472541,-0.0107832681,0.0427852087,-0.0276893135,0.0009339133,0.0116575146,-0.0218083579,-0.1151285172,-0.0164956562,-0.0018098856,-0.0610738173,0.0358428806,0.0103109218,0.0288388487,-0.0058526569,-0.0043568537,0.0113162426,-0.0113872364,-0.0201670732,0.0287467707,0.0064919326,0.0039706081,0.0009121858,0.0295406058,0.0167286173,0.0015345216,0.079966113,-0.0410088412,0.0286754314,-0.0215030815,-0.025212504,-0.0101209423,-0.0156014562,0.0190128386,0.0073991953,-0.0086210845,0.0360398963,-0.0095078982,-0.0243376661,-0.0035226915,0.0291670021,-0.0013114893,0.014823366,-0.0830062404,-0.0293738712,-0.0307366587,-0.088308312,-0.0058196625,0.0425708517,0.0018284214,-0.0163934082,0.0267828461,0.0027172298,0.0623267256,0.0338754766,0.015295174,-0.0037844002,-0.0145577649,0.0150154317,-0.0718889832,0.0262171384,-0.007824678,0.0324299335,-0.0133884354,0.0272941459,0.0611030757,-0.0626297444,-0.0065004844,0.037760336,-0.0804858655,-0.0020038285,-0.0337628536,0.0675670579,0.0171533804,0.0089948028,-0.0065953028,0.0595083572,0.0208527409,0.0544757396,-0.0088909362,0.0045342501,-0.028084388,-0.0803590119,0.0236877762,0.0188893639,-0.0703997239,0.0307512544,0.0285504311,-0.0197707713,0.0114024039,-0.0025900009,-0.0774645954,-0.021632215,0.0096672624,0.0431727096,-0.1153214127,-0.0334476493,0.0115344664,0.0172124989,-0.0368667282,0.0215829667,-0.0101667503,-0.0358771421,0.006284446,-0.063294895,-0.0031693506,-0.0183541756,0.046642676,0.0132017611,0.0273600332,0.0414501503,-0.0075422581,0.0205927379,-0.0076737939,-0.0034120837,-0.0683864728,-0.0517771728,-0.0012787988,-0.0125350682,0.0194924381,0.0272905082,0.015982395,0.0065146848,0.0214912184,0.0153089026,0.0312963873,0.0536787361,-0.00581558,-0.0382055081,-0.0309863668,-0.0091248956,-0.0231358726,-0.0008785439,0.0856594071,0.0131675946,-0.0068933694,-0.1108390242,0.0320544615,-0.0171193145,0.0329236723,-0.0217712838,-0.014234446,0.0149857197,0.0644288436,0.0179560091,0.0757124424,0.0398424268,-0.0200229045,-0.0369039997,-0.0270409845,0.0011685879,0.0445234589,0.0198467206,-0.0305868573,-0.0017534593,0.0805280358,0.0111467792,0.0240244213,-0.0026020033,0.010161289,0.0048203021,0.0871766657,0.0139728654,-0.034429986,-0.037836127,-0.0226748791,0.1059442982,0.0006211249,-0.0353542082,-0.023673214,-0.0050597517,0.0411169827,-0.0467345752,0.0391220264,0.0192246735,0.0704253614,0.0206506494,0.0465155728,0.0032855694,0.0022357022,0.0485334508,-0.0126390345,-0.0242377147,0.0011569816,0.0033883976,-0.0112495553,-0.0016703184,0.0013539877,-0.0007478634,0.0243850816,0.0031325957,0.0038313954,-0.0016521318,-0.0060080253,0.0491036028,0.0047276025,-0.0126620745,0.028561417,-0.0379618295,0.0004937337,-0.0118228644,-0.0604123026,-0.0024266706,0.0196704958,0.0217031185,-0.0167280398,0.0661871433,0.020703556,-0.0337966681,-0.0441134647,0.0174839254,0.0295379441,-0.0185553469,-0.0288550109,0.001702539,0.0354307219,-0.0531873368,0.0554930642,0.0020062516,0.0104807103,0.0677206218,-0.0141545041,-0.0254925936,-0.0053579137,0.0725974217,0.0104228146,0.0619968921,-0.0156715363,-0.0300581474,0.0018704387,0.033264216,-0.0316246189,-0.0056795776,0.0079821525,-0.0211212337,0.0240892991,0.0003737672,-0.0303591117,0.0394587405,-0.0306183007,-0.0410826989,-0.0790487751,-0.010374222,0.0144648459,-0.0271616988,-0.0337705165,-0.0014060384,-0.03446256,0.0036290567,-0.0155388359,-0.032088615,0.0197673384,0.0345260985,0.0009145552,0.0126606897,0.0327229723,0.0565558076,-0.0224678013,-0.0449942574,0.0049341777,-0.065658316,-0.0448239632,0.0293684453,0.0055500818,-0.038701959,0.0028719313,0.0745141581,-0.0028300402,-0.0203341506,0.01968644,-0.0006531543,-0.0624521486,-0.0460027196,-0.0175440013,-0.0107555902,-0.0075850915,-0.0121425353,-0.0502308272,-0.0126506295,-0.0129640764,0.0139952013,0.0225933064,0.0242689978,0.0132063814,0.0062739071,0.0276299939,0.0135594308,-0.0806384161,-0.0025186671,0.0305856951,0.0141387368,0.0058848606,-0.0176110435,0.029972,-0.0043453174,0.0204006433,0.0169347711,-0.0340437479,-0.008493918,0.0286331158,-0.0535566136,-0.0759898275,0.004822304,0.0371798351,0.025259411,0.033541508,0.00818983,0.0003397965,0.056984663,0.0064904452,0.0141632529,0.0332025923,0.0468114018,-0.0494841747,-0.0271057524,0.0106223868,-0.0362576507,-0.0156067926,0.0325174481,-0.0003372943,-0.0416995063,0.0475552194,0.0079975631,-0.0399968289,-0.0113944048,0.0811882466,-0.0275169946,-0.0440057442,-0.0045117689,0.0781399086,0.0170793887,-0.0524648279,-0.0084390426,-0.0348633491,0.0943092853,0.0890678167,0.021574527,-0.0148964822,-0.0141841201,0.0567060411,-0.091024965,0.0377233028,-0.0279469751,-0.0325653404,0.0002942733,-0.0635357946,0.0056635118,-0.0591713637,-0.0696174353,-0.0203422066,0.1111808568,0.0986359268,-0.0184646938,-0.0138108153,-0.0030987586,0.0184378587,-0.0283479467,0.0437852591,-0.0440567955,-0.0129552493,-0.0090678511,0.0342537723,-0.0088119768,-0.0309652761,0.0215409901,0.0283944663,-0.0161212571,-0.0043504476,-0.0122295627,0.0313937329,-0.0033378843,-0.0124235814,0.0526456982,-0.013502541,0.0220418219,0.0589574352,-0.0308157299,-0.0025723223,-0.0433206037,-0.0326245986,-0.0579546355,-0.0163851641,-0.0504282936,0.0000308557,0.0320538767,0.0050591268,-0.003647096,0.0236146059,0.0883828849,0.0016259641,0.0589870885,-0.0248175263,-0.0251467414,0.0481238961,-0.0127901677,0.0214215517,0.014701996,0.0403891206,0.0174836814,-0.0212401189,-0.0108785676,-0.0168220755,-0.0193503108,-0.0637771115,-0.0066174846,-0.0287122503,-0.0433628485,0.0198147185,0.0430528484,-0.0174854528,-0.0279432051,-0.0525210313,-0.0166860335,-0.0338190943,-0.0000665063,0.0399998501,-0.0230192132,-0.0404605307,-0.0247244425,0.0609019734,-0.0098638311,0.0395833105,0.0091959191,0.0575357527,-0.0565822832,0.0121072503,-0.0685949922,-0.0070128194,0.0529072359,0.0479107685,-0.0098155756,0.0189786144,0.0830380023,-0.0216864627,0.0775503442,0.0140558854,0.0006972981,0.0817063525,-0.0286135804,-0.0466587767,-0.0283457041,0.0224414784,-0.0261287857,0.0159919038,0.0218351725,0.0259214323,-0.0111577464,0.0250121038,0.0265636444,-0.0521775521,-0.0327220447,0.0462659262,-0.0247250218,-0.0254883785,0.0279379394,-0.0425505228,-0.0272242445,-0.0592480004,-0.0467196032,0.0029447593,0.029070301,-0.0155882761,0.0523136817,-0.0343670994,0.0207155291,-0.0053082746,-0.043572031,0.0220744591,-0.0713980868,-0.0733128786,-0.0007985533,0.0125390086,-0.0144907227,0.0255135838,-0.0210147947,0.0102217803,-0.0295165386,0.0304014217,-0.0130580887,0.0009537872,-0.0243803132,0.0523042008,-0.0335192233,-0.000940538,0.0020402889,-0.0523517132,-0.0048539606,-0.0588704348,0.0545425564,-0.0673872307,0.0175504312,-0.0197141208,-0.0672098175,-0.0011636349,-0.0241123531,-0.0217836797,0.0148923937,-0.0219262354,-0.0000345668,-0.0205906183,0.0137783131,-0.0305680428,-0.008943988,-0.0095688077,0.0409947596,0.0278055836,0.0154004777,0.0214420687,0.0769291595,0.0412821583,0.0248237774,-0.0242646132,-0.0618380345,-0.0543530025,-0.0629222915,0.011674786,-0.0062051532,-0.0072425371,0.0394221395,0.0364093482,-0.0399569236,-0.0386772119,0.0808435082,-0.0243925899,0.0798584595,0.0130524728,-0.0334188752,-0.0444214493,-0.0450541116,-0.0315147564,-0.086535506,-0.0262187179,0.0458896048,0.0058874111,0.0171561595,0.0372660868,0.0622557588,0.007981346,-0.0218311045,0.0457197055,-0.0114025576,0.0075024879,-0.0005725508,-0.0050143474,-0.0227907654,-0.0622592121,0.0131587246,-0.0113312118,0.0219065435,-0.008834268,-0.0291417912,-0.0555199236,0.0376552083,0.0231918544,-0.0158053041,0.0210331734,-0.0101251053,0.0400442071,-0.0029491219,0.0442065448,0.0035187164,0.0165184159,-0.0762756169,0.036792282,0.0293556172,0.0029882526,0.0124256574,0.0011793417,-0.0033405125,-0.015494952,-0.0077536642,-0.023336865,0.0282701682,0.0008587798,0.004783269,0.0382014513,0.0538725816,0.0533470362,-0.0455400087,-0.0307995677,-0.0123134675,0.0123738637,0.0112120369,-0.0027252666,0.0534524322,-0.0228862837,0.0274727102,-0.0169184003,0.0047166878,-0.0047030263,-0.0765516236,0.0011998814,0.0687695518,-0.0541485921,-0.0534421876,-0.0176701546,0.0060210354,0.0153711848,0.0514114872,0.0489068702,0.0190408211,-0.0050828778,0.0504714847,-0.0086054141,-0.0034306028,-0.0839224756,-0.0369194411,-0.0078845834,0.019775454,-0.0502603985,-0.0197292753,0.0054361783,-0.0336380415,0.0596453696,-0.0973550826,0.0178149305,0.0254555475,0.0104373116,-0.0022794032,0.0336215161,0.0104191434,-0.0426266566,-0.0148896249,-0.0537327975,-0.0225629359,-0.0306737032,-0.0369749144,0.0042598452,-0.0352148935,-0.0263086893,0.0482680723,-0.0009434983,0.0209699683,-0.0619882047,-0.0011361833,-0.0145463115,0.0117769754,-0.0210223086,0.0352098234,0.0510554984,0.0021213649,0.0410853438,0.0493365303,0.0112770833,-0.0108976699,-0.0146958223,-0.0352201983,-0.0487028882,-0.0934585482,0.0254196227,0.0236343425,0.0369531251,0.0390803292,0.0432961807,-0.0004960103,0.0401624143,-0.0331645347,0.0161107499,0.005309246,-0.0212034527,-0.0368883573,0.0356459059,0.031965524,-0.0215102099,-0.0798288211,-0.0264217742]}\n",
            "{\"id\":64240586,\"embedding\":[-0.0183631871,-0.015602666,-0.0383443981,0.0410597622,0.0511106886,-0.0291174836,0.0460007079,0.0414101519,-0.0053958506,0.0261784177,-0.0540944859,0.0038391941,0.0140913036,-0.0245567709,0.0127444658,-0.0075682886,-0.0615621917,-0.0019862861,0.0001646731,-0.0156265441,-0.0617857203,-0.0290563535,0.0158307366,0.0091834301,-0.0065865573,-0.0763478652,0.0542787574,0.0147130955,-0.0060469718,0.0103504611,-0.0214085802,0.0255988594,-0.0281478297,-0.0187088195,-0.0308749992,0.0305808671,0.0141621642,0.02042385,-0.0219449252,0.0188291315,-0.0021978682,0.0425675586,-0.0082206922,0.034645807,0.0178046711,0.0134275686,-0.0450008735,0.0582273602,0.027153017,-0.077784963,0.0213950686,-0.0585120358,-0.0464978218,0.0242903512,-0.0041593332,0.0095009916,-0.0168751907,0.0101303598,-0.065058887,0.0055190846,-0.0049357978,-0.0100634266,0.0445851944,0.0073997523,-0.0098251393,0.0505085438,0.0135654705,0.0458087586,0.0127348742,-0.0331294574,0.0372407436,-0.0406943783,0.0060242941,0.0060101417,0.0302357934,0.0032666815,-0.0198046025,0.0352590345,0.0540734008,-0.0556816049,-0.0213029496,-0.0635617375,-0.0132764913,-0.0454159789,0.0248811897,-0.0010310287,-0.0393274315,0.027006954,-0.0324506462,0.0336090066,0.0160479844,-0.0088552879,-0.0179749932,0.048979219,0.0253031254,0.0149065619,-0.012699673,0.0445861854,0.0346908718,0.0154510485,0.0086870594,-0.0617516451,0.0379818939,-0.0217882767,0.0297903828,-0.007082446,0.0134833213,0.0170126092,-0.0405565575,-0.1158800572,-0.0606456846,0.0250225719,-0.0396559387,0.0928752199,-0.0515886955,-0.0865316465,0.019030476,-0.0056674578,0.0372309759,-0.0265463796,-0.0229216665,-0.0252057482,0.0535014942,0.0249147341,-0.0054071089,-0.0290490817,0.0665592626,-0.0106285727,0.0085511645,-0.0114281597,0.0305990335,-0.0087759336,0.020039646,-0.0666847676,0.0605702512,0.0282983258,-0.0252771992,-0.0182097275,0.010741977,0.0164339822,-0.0172626618,0.0136762206,-0.0696460009,-0.0443160906,-0.0204748008,-0.0831168592,-0.0051404992,-0.0168906506,-0.0590244047,-0.0049714395,-0.0330733024,-0.0461409315,0.0490089133,0.0067593437,0.0212800838,0.0741333365,-0.0320511647,0.0233532079,-0.0261964295,-0.0643634945,0.0178913157,0.017778134,0.0573923439,-0.0058824122,0.0340402313,-0.0311727021,0.0007153315,0.036156863,0.0166218542,0.0321489386,0.0232640188,-0.0902235135,-0.0055839228,-0.0299636554,0.0336571559,-0.0249445513,0.0376051664,0.0019950727,-0.0037205103,-0.0162211005,-0.0173556153,-0.0709194168,0.0077745612,-0.0406583324,-0.0493295453,0.0119416127,-0.0189822409,-0.0362451524,-0.0143648898,0.0421341211,-0.0277783759,0.0371867009,-0.0230910257,-0.0785217509,-0.0573171005,0.0321543775,0.0413481072,-0.1158999652,-0.0485555492,0.0336232819,-0.0196038596,-0.0753787011,0.0537787862,0.0136528155,-0.0415974557,0.019918859,-0.0138786277,0.0624904595,-0.0013439357,-0.0123830466,0.0066408124,0.0389176495,0.0938357934,-0.0041719032,-0.008393636,0.0011715379,0.0128852921,-0.0054973597,-0.032351695,0.0469513871,0.0006420473,0.002226189,0.0186435338,0.0149985151,-0.001667858,0.0273937471,0.003240766,0.0521146208,-0.0262868796,0.0170029067,-0.0385895781,0.0054847854,-0.0248456262,0.0343283191,-0.0106485123,-0.0233211666,-0.0184241962,0.0331044942,-0.1031432524,0.0025473132,0.0072410218,0.0432984903,-0.0164981224,0.0319697075,-0.0365026332,0.0336528718,-0.066206634,0.0630325601,-0.0138910068,-0.0460431166,-0.0052943258,-0.0284303334,0.0050012255,0.0057815169,-0.0009527555,0.0281915329,0.0019835453,0.0508000292,-0.0016048525,0.002028557,0.0192398168,-0.0316082314,0.03656758,0.0805012956,-0.0047998256,-0.015928993,-0.0287905838,-0.0199832339,0.0321366414,-0.0054355022,0.0186293293,0.0577058941,0.0116286865,0.0043785311,0.0322182328,0.0283892155,-0.0304379668,0.0082566133,0.0089735733,0.0714515671,0.0034443084,-0.0585252903,0.0060467147,0.0347735137,-0.0085155172,0.0263787601,-0.025247464,-0.046706222,-0.056497246,0.0233686212,-0.0234166607,-0.0380023271,-0.017940199,0.0622813217,-0.0413609631,-0.0251473598,0.0220664274,0.0077944919,-0.0446693748,0.0120546957,-0.0139266467,0.0586787723,0.0269607641,-0.0086626923,-0.0511316396,-0.0178488512,-0.0174643863,-0.016106993,0.0589567646,0.035685055,-0.0152751449,-0.0084137423,0.0014572847,0.0385980271,-0.0004770636,0.0304831546,-0.016485529,-0.0143523766,-0.0544080511,0.0525011532,-0.0431064218,-0.0101704877,0.1271206737,-0.0047548404,0.0486675091,0.0008584696,0.0165054332,0.0049305265,0.0803279281,0.0167123359,-0.048717577,0.0018482571,0.0547050685,0.0312928706,-0.0224130824,0.0041824286,-0.0268249605,-0.0009894635,-0.0367663167,-0.0490962006,0.0000556704,0.0134680476,-0.0553154759,-0.0092244335,-0.034126319,0.0297683217,-0.0166552532,0.0067352541,-0.0068912096,-0.0227671992,-0.0338423327,0.0580986254,0.0030966003,0.0382717885,0.0454861,-0.0001633207,-0.0056082616,0.0299244951,0.0669044033,-0.0191027559,-0.0251305737,-0.021443123,-0.0393002555,-0.0023134134,0.0426348858,-0.024730321,-0.0900591835,0.027474016,0.0118859112,0.0080503542,0.0123537825,-0.0006166648,0.0008659209,-0.0071664196,-0.0640501231,-0.0252638143,-0.0506252572,-0.0002698828,-0.0098989429,-0.0304245539,0.003677781,0.0141556701,0.0054533151,0.0123664141,-0.0125469398,0.0362777002,0.0079549011,0.05441631,0.0506401062,-0.0083635757,0.0032940225,0.0210101642,0.0052684373,-0.0279717781,0.0011501476,0.0164406076,-0.056756638,-0.0403000079,0.0027504861,-0.0428596064,0.00857329,0.0179508869,-0.0317977741,-0.0809668973,-0.0115064094,0.0485689491,0.0711425319,-0.0090309521,-0.0002649518,-0.0457821786,0.0077118962,-0.0374061987,0.0083752424,0.0076554543,0.0389237143,-0.0121111069,0.0676988959,-0.0783553496,0.0221246816,0.0536431335,0.0281273983,0.0064808861,-0.0103298584,0.0421185531,0.0267690141,0.0480547175,-0.0190369934,0.0939246491,-0.0592401661,-0.0181836393,-0.0229856744,0.0246035159,0.0380377881,-0.0778722018,-0.0286463816,-0.047248859,0.0022410082,0.0155548127,0.0043259454,-0.021577429,0.0034604268,-0.0229149908,-0.0167005528,0.0155944824,0.0386919528,-0.0489381105,-0.0784597844,-0.039887663,-0.0084127281,-0.0226764139,-0.0530173182,0.042011749,-0.0289320815,0.0726092532,-0.0051130881,0.0235956963,0.0059368946,-0.0375155881,0.0017365472,0.0064353333,0.0199634731,0.0181132797,-0.0067446688,0.0392237827,0.0303321332,-0.0055104503,-0.0389544293,0.0678531229,0.0076083583,0.0401855484,-0.002707724,0.0542470254,-0.0066298633,-0.018534312,0.0393153131,-0.022129301,0.0230319537,0.0420200564,-0.0424130745,-0.0079823835,-0.0841035098,-0.0667322204,-0.0046651098,-0.0594273955,-0.0234080162,0.0556042604,-0.0035407117,-0.0632354766,0.0429496989,0.0415061638,0.0016788262,-0.056735754,0.0090165734,-0.0624484085,0.0709075853,0.0216544922,0.0180806648,0.0055802572,-0.00527474,0.0133509785,0.0607013553,0.0253025591,0.0414335057,-0.0080749737,0.0148375519,-0.0090181138,0.0637797415,-0.0595156103,-0.0207131431,0.0267165992,-0.0103334356,0.0573184937,-0.0053679538,-0.0259006396,-0.0388370417,-0.0434782319,0.0110280635,0.0600803606,-0.0085239364,-0.0115062948,-0.010334189,0.0045739352,0.0011409449,0.002711735,0.0391702391,0.024549216,0.0338174962,0.0097583905,-0.042276375,0.037100032,0.0152934631,0.0474890806,-0.0321423002,0.0481039174,-0.0106849736,-0.042868074,0.0485609211,-0.0145900715,0.0607898384,0.1191688254,-0.0686173141,-0.0258294642,0.0551617928,0.0088470103,0.0007820878,0.0292440075,-0.0055175447,0.0146856364,-0.0115193101,0.0181217585,-0.0032198236,-0.0292492192,0.0257443413,0.0423051678,0.060218107,-0.0321832076,-0.0044788737,0.00156488,0.0052581206,-0.0352326743,-0.0277109332,-0.0195682012,0.0102963848,-0.0243851524,0.0176892187,0.0108148269,0.0333972275,0.0532095842,0.0059156162,0.0535678715,0.0086304601,-0.0287664775,-0.0175090916,0.0044221776,-0.0014544622,0.0470746495,-0.0465371907,-0.0125770262,-0.0038730274,0.011473733,-0.0334148072,0.0206171591,0.0263004415,0.0530869402,-0.0626774579,-0.0070735724,-0.0070818295,-0.0008651323,-0.0508508086,0.001282005,0.0164554399,-0.1006516367,-0.0374673679,0.0240952726,-0.0551763475,-0.0401917621,-0.0245252028,-0.0022450918,-0.0483614728,0.0047752508,-0.0109942732,-0.0262455419,0.0403911918,0.0003969787,0.0347385928,-0.050356172,0.0078553399,-0.0193327516,-0.0154080987,0.039006453,0.0427843593,0.0097033745,0.0473876148,-0.0350852869,-0.0529035032,0.0356842019,-0.0027857679,0.0107300803,-0.0244768187,-0.0132179735,-0.0430480652,-0.0288724061,-0.002224297,-0.0493680649,0.0161624625,-0.0742774978,0.0310070384,0.0417066291,-0.0349043794,-0.0574400052,0.0611450374,-0.0099214762,-0.0490858629,-0.0115489457,0.0112358658,-0.0138682975,0.0430063792,0.0140095353,0.022377342,0.0033472988,0.003255904,0.0412627421,0.0096226251,-0.0240297448,0.0107758995,-0.0321746357,-0.0040575792,-0.0568513535,0.0219087675,0.0431615002,-0.0648793057,-0.0443772264,-0.0337144472,-0.0378195643,0.0159761347,-0.0397487208,-0.0400597677,-0.0096129868,-0.0167721529,0.018847838,0.0582596809,0.0223438926,0.0313064978,0.0641989857,-0.0270178821,0.0758558586,-0.0287102088,0.0100048734,0.0160156526,0.0029406147,-0.0353940837,-0.0071004676,-0.0241007153,-0.0480344892,0.0264162757,-0.0159918759,0.0012713198,0.0501298718,0.0133826723,0.0184169598,-0.0442982838,-0.0519831963,0.0706263706,-0.0281489324,-0.0189806279,-0.0465588085,-0.0282062292,-0.0391162857,-0.0092900535,-0.0181083381,0.0094031952,0.0214777943,-0.0301276743,-0.0767493472,0.0121042132,-0.0509523191,-0.0213666912,0.0208921824,-0.0223116763,0.034498658,-0.0050404626,-0.0018780883,0.0134828426,0.0363903083,0.0510684513,-0.0527872294,-0.01106562,0.0041293772,-0.0241214056,-0.0000618631,0.0282178372,-0.0592761151,-0.0151675651,-0.0075996504,-0.0178405326,0.0396859385,-0.0682685301,0.0475830361,0.0207132772,-0.0247693975,-0.0324161015,-0.0119863944,0.0570140257,0.0119363246,-0.0155135943,0.0158865172,-0.0083574923,-0.0153976632,-0.0740448907,-0.0196579415,0.0149435801,-0.0065631778,0.0125587611,-0.0461096987,0.0022742683,-0.0212302953,0.0379902013,0.0048056967,0.0807472691,-0.0335000493,0.0334606469,0.0368835144,-0.0259119943,0.0511224791,0.0321901329,-0.0043275161,0.0344721712,-0.0452609472,-0.0585088246,-0.0477186888,0.0061620586,-0.0121124592,-0.0012702303,0.0029535478,-0.0161161125,0.0114387749,-0.0380254872,0.0902108476,-0.0184940416,0.0314656571,-0.0431144126,0.0427736938,-0.0076709837,-0.0090973573,0.0368133783,-0.0068432139,-0.0532122888,-0.0030766584]}\n"
          ]
        }
      ]
    },
    {
      "cell_type": "code",
      "source": [
        "BUCKET_URI = f\"gs://{PROJECT_ID}-embvs-tutorial-{UID}\"\n",
        "! gsutil mb -l $LOCATION -p {PROJECT_ID} {BUCKET_URI}\n",
        "! gsutil cp questions.json {BUCKET_URI}\n"
      ],
      "metadata": {
        "id": "zy5XChg4_8rH"
      },
      "execution_count": null,
      "outputs": []
    },
    {
      "cell_type": "code",
      "source": [
        "# init the aiplatform package\n",
        "from google.cloud import aiplatform\n",
        "\n",
        "aiplatform.init(project=PROJECT_ID, location=LOCATION)\n"
      ],
      "metadata": {
        "id": "DcGWEPq5BJfL"
      },
      "execution_count": 20,
      "outputs": []
    },
    {
      "cell_type": "code",
      "source": [
        "# create index\n",
        "my_index = aiplatform.MatchingEngineIndex.create_tree_ah_index(\n",
        "    display_name=f\"embvs-tutorial-index-{UID}\",\n",
        "    contents_delta_uri=BUCKET_URI,\n",
        "    dimensions=768,\n",
        "    approximate_neighbors_count=20,\n",
        "    distance_measure_type=\"DOT_PRODUCT_DISTANCE\",\n",
        ")\n"
      ],
      "metadata": {
        "id": "KvRvKoXKBJ6h"
      },
      "execution_count": null,
      "outputs": []
    },
    {
      "cell_type": "code",
      "source": [
        "# create IndexEndpoint\n",
        "my_index_endpoint = aiplatform.MatchingEngineIndexEndpoint.create(\n",
        "    display_name=f\"embvs-tutorial-index-endpoint-{UID}\",\n",
        "    public_endpoint_enabled=True,\n",
        ")\n"
      ],
      "metadata": {
        "id": "nSuqqgstBRj5"
      },
      "execution_count": null,
      "outputs": []
    },
    {
      "cell_type": "code",
      "source": [
        "DEPLOYED_INDEX_ID = f\"embvs_tutorial_deployed_{UID}\"\n"
      ],
      "metadata": {
        "id": "osm_4kDiCwLE"
      },
      "execution_count": 23,
      "outputs": []
    },
    {
      "cell_type": "code",
      "source": [
        "# deploy the Index to the Index Endpoint\n",
        "my_index_endpoint.deploy_index(index=my_index, deployed_index_id=DEPLOYED_INDEX_ID)\n"
      ],
      "metadata": {
        "id": "YNM80MfuC7qi"
      },
      "execution_count": null,
      "outputs": []
    },
    {
      "cell_type": "code",
      "source": [
        "test_embeddings = get_embeddings_wrapper([\"How to read JSON with Python?\"])\n"
      ],
      "metadata": {
        "colab": {
          "base_uri": "https://localhost:8080/"
        },
        "id": "xGKhsn_BC-Vq",
        "outputId": "b8d06ba0-6d0c-4109-cf30-3b7ebdccf41f"
      },
      "execution_count": 25,
      "outputs": [
        {
          "output_type": "stream",
          "name": "stderr",
          "text": [
            "100%|██████████| 1/1 [00:01<00:00,  1.55s/it]\n"
          ]
        }
      ]
    },
    {
      "cell_type": "code",
      "source": [
        "# Test query\n",
        "response = my_index_endpoint.find_neighbors(\n",
        "    deployed_index_id=DEPLOYED_INDEX_ID,\n",
        "    queries=test_embeddings,\n",
        "    num_neighbors=20,\n",
        ")\n",
        "\n",
        "# show the result\n",
        "import numpy as np\n",
        "\n",
        "for idx, neighbor in enumerate(response[0]):\n",
        "    id = np.int64(neighbor.id)\n",
        "    similar = df.query(\"id == @id\", engine=\"python\")\n",
        "    print(f\"{neighbor.distance:.4f} {similar.title.values[0]}\")\n"
      ],
      "metadata": {
        "colab": {
          "base_uri": "https://localhost:8080/"
        },
        "id": "npjahxIcG1jD",
        "outputId": "71ebcb17-280f-46ab-fa40-352024b437a7"
      },
      "execution_count": 26,
      "outputs": [
        {
          "output_type": "stream",
          "name": "stdout",
          "text": [
            "0.8132 Python - How To Decode JWT Header?\n",
            "0.7756 How to extract inner dictionary key/value into a new dictionary in Python?\n",
            "0.7266 Why can't I read in .conll file with Python (confusing parse-error)?\n",
            "0.7208 How can I use regex in python to find words between tags?\n",
            "0.7033 Python CSV, How to append data at the end of a row whilst reading it line by line (row by row)?\n",
            "0.6976 Why customer python package can not be imported?\n",
            "0.6946 How to perform the join on multiple fields in django queryset?\n",
            "0.6942 Why is ZeroMQ poller not receiving messages (python)?\n",
            "0.6917 How to parse un json string into a List with MOSHI\n",
            "0.6843 Flutter driver: how to pass json mock to test?\n",
            "0.6816 Not getting response on fetching an API\n",
            "0.6789 Howto emulate pipe-like buffer in Python?\n",
            "0.6761 Django: Why am I getting ValueError when referring to a ForeignKey using a varchar?\n",
            "0.6736 Fetching JSON which might contain null values\n",
            "0.6689 How to take the value of a key in mongodb using python\n",
            "0.6655 console.log the data from json url using http get\n",
            "0.6644 Passing through Txt file formatted like Json\n",
            "0.6612 How to efficiently extract date year from dataframe header in Pandas?\n",
            "0.6593 Python while loop not working as intended\n",
            "0.6582 how can i share a Jupyter Notebook?\n"
          ]
        }
      ]
    },
    {
      "cell_type": "code",
      "source": [
        "# wait for a confirmation\n",
        "input(\"Press Enter to delete Index Endpoint, Index and Cloud Storage bucket:\")\n",
        "\n",
        "# delete Index Endpoint\n",
        "my_index_endpoint.undeploy_all()\n",
        "my_index_endpoint.delete(force=True)\n",
        "\n",
        "# delete Index\n",
        "my_index.delete()\n",
        "\n",
        "# delete Cloud Storage bucket\n",
        "! gsutil rm -r {BUCKET_URI}"
      ],
      "metadata": {
        "id": "TOX5NJtxIjGy"
      },
      "execution_count": null,
      "outputs": []
    }
  ]
}